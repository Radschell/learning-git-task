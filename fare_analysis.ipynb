{
 "cells": [
  {
   "cell_type": "code",
   "execution_count": null,
   "metadata": {},
   "outputs": [],
   "source": [
    "import pandas as pd\n",
    "import numpy as np\n",
    "import matplotlib.pyplot as plt\n",
    "\n",
    "# Load data into a pandas DataFrame\n",
    "df = pd.read_csv('your_data_file.csv')\n",
    "\n",
    "# Calculate the average fare\n",
    "avg_fare = np.mean(df['Fare'])\n",
    "print('Average Fare:', avg_fare)\n",
    "\n",
    "# Calculate the quartiles\n",
    "q1 = np.percentile(df['Fare'], 25)\n",
    "q2 = np.percentile(df['Fare'], 50)\n",
    "q3 = np.percentile(df['Fare'], 75)\n",
    "print('Q1:', q1)\n",
    "print('Q2:', q2)\n",
    "print('Q3:', q3)\n",
    "\n",
    "# Create a box plot of the Fare variable\n",
    "plt.boxplot(df['Fare'])\n",
    "plt.title('Box Plot of Fare Variable')\n",
    "plt.ylabel('Fare')\n",
    "plt.show()\n"
   ]
  }
 ],
 "metadata": {
  "language_info": {
   "name": "python"
  },
  "orig_nbformat": 4
 },
 "nbformat": 4,
 "nbformat_minor": 2
}
